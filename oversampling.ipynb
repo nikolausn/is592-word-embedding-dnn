{
 "cells": [
  {
   "cell_type": "code",
   "execution_count": 15,
   "metadata": {},
   "outputs": [
    {
     "data": {
      "text/html": [
       "<div>\n",
       "<style>\n",
       "    .dataframe thead tr:only-child th {\n",
       "        text-align: right;\n",
       "    }\n",
       "\n",
       "    .dataframe thead th {\n",
       "        text-align: left;\n",
       "    }\n",
       "\n",
       "    .dataframe tbody tr th {\n",
       "        vertical-align: top;\n",
       "    }\n",
       "</style>\n",
       "<table border=\"1\" class=\"dataframe\">\n",
       "  <thead>\n",
       "    <tr style=\"text-align: right;\">\n",
       "      <th></th>\n",
       "      <th>AUID</th>\n",
       "      <th>Last</th>\n",
       "      <th>First</th>\n",
       "      <th>Ethnea</th>\n",
       "      <th>Genni</th>\n",
       "      <th>PubCountry</th>\n",
       "    </tr>\n",
       "  </thead>\n",
       "  <tbody>\n",
       "    <tr>\n",
       "      <th>0</th>\n",
       "      <td>12872768_1</td>\n",
       "      <td>_Filho_</td>\n",
       "      <td>_Elias_Abdalla_</td>\n",
       "      <td>HISPANIC</td>\n",
       "      <td>M</td>\n",
       "      <td>Brazil</td>\n",
       "    </tr>\n",
       "    <tr>\n",
       "      <th>1</th>\n",
       "      <td>12565879_3</td>\n",
       "      <td>_Bou_Abdallah_</td>\n",
       "      <td>_Jad_</td>\n",
       "      <td>ARAB</td>\n",
       "      <td>M</td>\n",
       "      <td>France</td>\n",
       "    </tr>\n",
       "    <tr>\n",
       "      <th>2</th>\n",
       "      <td>17569133_1</td>\n",
       "      <td>_Abdel_Aziz_</td>\n",
       "      <td>_Ayman_</td>\n",
       "      <td>ARAB</td>\n",
       "      <td>M</td>\n",
       "      <td>USA</td>\n",
       "    </tr>\n",
       "    <tr>\n",
       "      <th>3</th>\n",
       "      <td>11213157_2</td>\n",
       "      <td>_Abdelmoula_</td>\n",
       "      <td>_Salma_</td>\n",
       "      <td>ARAB</td>\n",
       "      <td>F</td>\n",
       "      <td>Tunisia</td>\n",
       "    </tr>\n",
       "    <tr>\n",
       "      <th>4</th>\n",
       "      <td>11439058_1</td>\n",
       "      <td>_Abdou_</td>\n",
       "      <td>_Ibrahim_</td>\n",
       "      <td>ARAB</td>\n",
       "      <td>M</td>\n",
       "      <td>Egypt</td>\n",
       "    </tr>\n",
       "    <tr>\n",
       "      <th>5</th>\n",
       "      <td>10919608_3</td>\n",
       "      <td>_Abou_El_Fettouh_</td>\n",
       "      <td>_Hazem_</td>\n",
       "      <td>ARAB</td>\n",
       "      <td>M</td>\n",
       "      <td>USA</td>\n",
       "    </tr>\n",
       "    <tr>\n",
       "      <th>6</th>\n",
       "      <td>17314740_3</td>\n",
       "      <td>_Aboutaam_</td>\n",
       "      <td>_Rola_</td>\n",
       "      <td>ARAB</td>\n",
       "      <td>F</td>\n",
       "      <td>France</td>\n",
       "    </tr>\n",
       "    <tr>\n",
       "      <th>7</th>\n",
       "      <td>16564217_2</td>\n",
       "      <td>_Alvim_de_Abreu_Silva_Rodrigues_</td>\n",
       "      <td>_Aida_Alexandra_</td>\n",
       "      <td>HISPANIC</td>\n",
       "      <td>F</td>\n",
       "      <td>Brazil</td>\n",
       "    </tr>\n",
       "    <tr>\n",
       "      <th>8</th>\n",
       "      <td>6339395_2</td>\n",
       "      <td>_Cristina_Affonso_Scaletsky_</td>\n",
       "      <td>_Isabel_</td>\n",
       "      <td>HISPANIC</td>\n",
       "      <td>F</td>\n",
       "      <td>Brazil</td>\n",
       "    </tr>\n",
       "    <tr>\n",
       "      <th>9</th>\n",
       "      <td>7796089_2</td>\n",
       "      <td>_Agbenyega_</td>\n",
       "      <td>_Tsiri_</td>\n",
       "      <td>AFRICAN</td>\n",
       "      <td>-</td>\n",
       "      <td>Ghana</td>\n",
       "    </tr>\n",
       "    <tr>\n",
       "      <th>10</th>\n",
       "      <td>5473023_2</td>\n",
       "      <td>_Maria_Aguado_Garcia_</td>\n",
       "      <td>_Jose_</td>\n",
       "      <td>HISPANIC</td>\n",
       "      <td>M</td>\n",
       "      <td>Spain</td>\n",
       "    </tr>\n",
       "    <tr>\n",
       "      <th>11</th>\n",
       "      <td>15153355_4</td>\n",
       "      <td>_Aguilar_Guisado_</td>\n",
       "      <td>_Manuela_</td>\n",
       "      <td>HISPANIC</td>\n",
       "      <td>F</td>\n",
       "      <td>Spain</td>\n",
       "    </tr>\n",
       "    <tr>\n",
       "      <th>12</th>\n",
       "      <td>11981185_4</td>\n",
       "      <td>_Aguillon_Luna_</td>\n",
       "      <td>_Arturo_</td>\n",
       "      <td>HISPANIC</td>\n",
       "      <td>M</td>\n",
       "      <td>USA</td>\n",
       "    </tr>\n",
       "    <tr>\n",
       "      <th>13</th>\n",
       "      <td>12554913_2</td>\n",
       "      <td>_Ahmadzadeh_</td>\n",
       "      <td>_Ali_</td>\n",
       "      <td>ARAB</td>\n",
       "      <td>M</td>\n",
       "      <td>Iran</td>\n",
       "    </tr>\n",
       "    <tr>\n",
       "      <th>14</th>\n",
       "      <td>10066026_5</td>\n",
       "      <td>_Ibrahim_</td>\n",
       "      <td>_Ahmed_</td>\n",
       "      <td>ARAB</td>\n",
       "      <td>M</td>\n",
       "      <td>UnitedArabEmirates</td>\n",
       "    </tr>\n",
       "    <tr>\n",
       "      <th>15</th>\n",
       "      <td>17642770_2</td>\n",
       "      <td>_Letaief_</td>\n",
       "      <td>_Ahmed_</td>\n",
       "      <td>ARAB</td>\n",
       "      <td>M</td>\n",
       "      <td>Tunisia</td>\n",
       "    </tr>\n",
       "    <tr>\n",
       "      <th>16</th>\n",
       "      <td>14766995_2</td>\n",
       "      <td>_Shakeel_Ahmed_</td>\n",
       "      <td>_Mohammed_</td>\n",
       "      <td>ARAB</td>\n",
       "      <td>M</td>\n",
       "      <td>USA</td>\n",
       "    </tr>\n",
       "    <tr>\n",
       "      <th>17</th>\n",
       "      <td>16343417_1</td>\n",
       "      <td>_Aksoy_Dogan_</td>\n",
       "      <td>_Alev_</td>\n",
       "      <td>TURKISH</td>\n",
       "      <td>F</td>\n",
       "      <td>Turkey</td>\n",
       "    </tr>\n",
       "    <tr>\n",
       "      <th>18</th>\n",
       "      <td>3866040_3</td>\n",
       "      <td>_Nakatsukasa_Akune_</td>\n",
       "      <td>_Mitsumi_</td>\n",
       "      <td>JAPANESE</td>\n",
       "      <td>-</td>\n",
       "      <td>Japan</td>\n",
       "    </tr>\n",
       "    <tr>\n",
       "      <th>19</th>\n",
       "      <td>12663244_3</td>\n",
       "      <td>_Akyuz_</td>\n",
       "      <td>_Filiz_</td>\n",
       "      <td>TURKISH</td>\n",
       "      <td>F</td>\n",
       "      <td>Turkey</td>\n",
       "    </tr>\n",
       "    <tr>\n",
       "      <th>20</th>\n",
       "      <td>2830628_1</td>\n",
       "      <td>_Al_Gohary_</td>\n",
       "      <td>_Omaimah_</td>\n",
       "      <td>ARAB</td>\n",
       "      <td>F</td>\n",
       "      <td>SaudiArabia</td>\n",
       "    </tr>\n",
       "    <tr>\n",
       "      <th>21</th>\n",
       "      <td>12113661_3</td>\n",
       "      <td>_Al_Jedah_</td>\n",
       "      <td>_Jassim_</td>\n",
       "      <td>ARAB</td>\n",
       "      <td>M</td>\n",
       "      <td>Qatar</td>\n",
       "    </tr>\n",
       "    <tr>\n",
       "      <th>22</th>\n",
       "      <td>3104205_7</td>\n",
       "      <td>_Al_Khatib_</td>\n",
       "      <td>_Shadi_</td>\n",
       "      <td>ARAB</td>\n",
       "      <td>-</td>\n",
       "      <td>India</td>\n",
       "    </tr>\n",
       "    <tr>\n",
       "      <th>23</th>\n",
       "      <td>7520609_3</td>\n",
       "      <td>_Al_Najjar_</td>\n",
       "      <td>_Azmi_</td>\n",
       "      <td>ARAB</td>\n",
       "      <td>M</td>\n",
       "      <td>France</td>\n",
       "    </tr>\n",
       "    <tr>\n",
       "      <th>24</th>\n",
       "      <td>927746_1</td>\n",
       "      <td>_Alba_Conejo_</td>\n",
       "      <td>_Emilio_</td>\n",
       "      <td>HISPANIC</td>\n",
       "      <td>M</td>\n",
       "      <td>Spain</td>\n",
       "    </tr>\n",
       "    <tr>\n",
       "      <th>25</th>\n",
       "      <td>18451155_4</td>\n",
       "      <td>_Llaguno_</td>\n",
       "      <td>_Sheila_Alcantara_</td>\n",
       "      <td>HISPANIC</td>\n",
       "      <td>F</td>\n",
       "      <td>USA</td>\n",
       "    </tr>\n",
       "    <tr>\n",
       "      <th>26</th>\n",
       "      <td>9431676_4</td>\n",
       "      <td>_Alcocer_</td>\n",
       "      <td>_Marcos_</td>\n",
       "      <td>HISPANIC</td>\n",
       "      <td>M</td>\n",
       "      <td>UK</td>\n",
       "    </tr>\n",
       "    <tr>\n",
       "      <th>27</th>\n",
       "      <td>3720520_1</td>\n",
       "      <td>_Grazia_Alessandri_</td>\n",
       "      <td>_Maria_</td>\n",
       "      <td>ITALIAN</td>\n",
       "      <td>F</td>\n",
       "      <td>Italy</td>\n",
       "    </tr>\n",
       "    <tr>\n",
       "      <th>28</th>\n",
       "      <td>10480445_2</td>\n",
       "      <td>_Ali_Labib_</td>\n",
       "      <td>_Randa_</td>\n",
       "      <td>ARAB</td>\n",
       "      <td>F</td>\n",
       "      <td>Egypt</td>\n",
       "    </tr>\n",
       "    <tr>\n",
       "      <th>29</th>\n",
       "      <td>12636048_1</td>\n",
       "      <td>_Allie_Hamdulay_</td>\n",
       "      <td>_Shameez_</td>\n",
       "      <td>AFRICAN</td>\n",
       "      <td>-</td>\n",
       "      <td>SouthAfrica</td>\n",
       "    </tr>\n",
       "    <tr>\n",
       "      <th>...</th>\n",
       "      <td>...</td>\n",
       "      <td>...</td>\n",
       "      <td>...</td>\n",
       "      <td>...</td>\n",
       "      <td>...</td>\n",
       "      <td>...</td>\n",
       "    </tr>\n",
       "    <tr>\n",
       "      <th>44537</th>\n",
       "      <td>12641914_1</td>\n",
       "      <td>_Liu_</td>\n",
       "      <td>_Zhihong_</td>\n",
       "      <td>CHINESE</td>\n",
       "      <td>-</td>\n",
       "      <td>China</td>\n",
       "    </tr>\n",
       "    <tr>\n",
       "      <th>44538</th>\n",
       "      <td>16892144_4</td>\n",
       "      <td>_Liu_</td>\n",
       "      <td>_Zhen_ying_</td>\n",
       "      <td>CHINESE</td>\n",
       "      <td>-</td>\n",
       "      <td>China</td>\n",
       "    </tr>\n",
       "    <tr>\n",
       "      <th>44539</th>\n",
       "      <td>15566960_5</td>\n",
       "      <td>_Liu_</td>\n",
       "      <td>_Zhu_</td>\n",
       "      <td>CHINESE</td>\n",
       "      <td>-</td>\n",
       "      <td>China</td>\n",
       "    </tr>\n",
       "    <tr>\n",
       "      <th>44540</th>\n",
       "      <td>12828461_3</td>\n",
       "      <td>_Liu_</td>\n",
       "      <td>_Zhengjie_</td>\n",
       "      <td>CHINESE</td>\n",
       "      <td>-</td>\n",
       "      <td>USA</td>\n",
       "    </tr>\n",
       "    <tr>\n",
       "      <th>44541</th>\n",
       "      <td>12726928_3</td>\n",
       "      <td>_Liu_</td>\n",
       "      <td>_Zhengchun_</td>\n",
       "      <td>CHINESE</td>\n",
       "      <td>-</td>\n",
       "      <td>China</td>\n",
       "    </tr>\n",
       "    <tr>\n",
       "      <th>44542</th>\n",
       "      <td>17802886_5</td>\n",
       "      <td>_Liu_</td>\n",
       "      <td>_Ziliang_</td>\n",
       "      <td>CHINESE</td>\n",
       "      <td>-</td>\n",
       "      <td>China</td>\n",
       "    </tr>\n",
       "    <tr>\n",
       "      <th>44543</th>\n",
       "      <td>18032929_3</td>\n",
       "      <td>_Liu_</td>\n",
       "      <td>_Zhe_</td>\n",
       "      <td>CHINESE</td>\n",
       "      <td>-</td>\n",
       "      <td>China</td>\n",
       "    </tr>\n",
       "    <tr>\n",
       "      <th>44544</th>\n",
       "      <td>16690641_1</td>\n",
       "      <td>_Liu_</td>\n",
       "      <td>_Zulian_</td>\n",
       "      <td>CHINESE</td>\n",
       "      <td>-</td>\n",
       "      <td>UK</td>\n",
       "    </tr>\n",
       "    <tr>\n",
       "      <th>44545</th>\n",
       "      <td>17554931_2</td>\n",
       "      <td>_Liu_</td>\n",
       "      <td>_Zun_chun_</td>\n",
       "      <td>CHINESE</td>\n",
       "      <td>-</td>\n",
       "      <td>China</td>\n",
       "    </tr>\n",
       "    <tr>\n",
       "      <th>44546</th>\n",
       "      <td>18975769_5</td>\n",
       "      <td>_Liu_</td>\n",
       "      <td>_Ze_zhou_</td>\n",
       "      <td>CHINESE</td>\n",
       "      <td>-</td>\n",
       "      <td>China</td>\n",
       "    </tr>\n",
       "    <tr>\n",
       "      <th>44547</th>\n",
       "      <td>19458823_2</td>\n",
       "      <td>_Liu_</td>\n",
       "      <td>_Zhaochun_</td>\n",
       "      <td>CHINESE</td>\n",
       "      <td>-</td>\n",
       "      <td>China</td>\n",
       "    </tr>\n",
       "    <tr>\n",
       "      <th>44548</th>\n",
       "      <td>8734067_3</td>\n",
       "      <td>_Liu_</td>\n",
       "      <td>_ziying_</td>\n",
       "      <td>CHINESE</td>\n",
       "      <td>M</td>\n",
       "      <td>USA</td>\n",
       "    </tr>\n",
       "    <tr>\n",
       "      <th>44549</th>\n",
       "      <td>9706530_4</td>\n",
       "      <td>_Liu_</td>\n",
       "      <td>_zhenyu_</td>\n",
       "      <td>CHINESE</td>\n",
       "      <td>M</td>\n",
       "      <td>China</td>\n",
       "    </tr>\n",
       "    <tr>\n",
       "      <th>44550</th>\n",
       "      <td>6068528_4</td>\n",
       "      <td>_Tanaka_</td>\n",
       "      <td>_kenzo_</td>\n",
       "      <td>JAPANESE</td>\n",
       "      <td>M</td>\n",
       "      <td>Japan</td>\n",
       "    </tr>\n",
       "    <tr>\n",
       "      <th>44551</th>\n",
       "      <td>180046_3</td>\n",
       "      <td>_Tanaka_</td>\n",
       "      <td>_kimiko_</td>\n",
       "      <td>JAPANESE</td>\n",
       "      <td>F</td>\n",
       "      <td>USA</td>\n",
       "    </tr>\n",
       "    <tr>\n",
       "      <th>44552</th>\n",
       "      <td>1942669_3</td>\n",
       "      <td>_Tanaka_</td>\n",
       "      <td>_kazuhiro_</td>\n",
       "      <td>JAPANESE</td>\n",
       "      <td>M</td>\n",
       "      <td>Japan</td>\n",
       "    </tr>\n",
       "    <tr>\n",
       "      <th>44553</th>\n",
       "      <td>9571188_3</td>\n",
       "      <td>_Tanaka_</td>\n",
       "      <td>_koji_</td>\n",
       "      <td>JAPANESE</td>\n",
       "      <td>M</td>\n",
       "      <td>Japan</td>\n",
       "    </tr>\n",
       "    <tr>\n",
       "      <th>44554</th>\n",
       "      <td>11071249_4</td>\n",
       "      <td>_Tanaka_</td>\n",
       "      <td>_Kousei_</td>\n",
       "      <td>JAPANESE</td>\n",
       "      <td>M</td>\n",
       "      <td>Japan</td>\n",
       "    </tr>\n",
       "    <tr>\n",
       "      <th>44555</th>\n",
       "      <td>12828613_4</td>\n",
       "      <td>_Tanaka_</td>\n",
       "      <td>_Kyoko_</td>\n",
       "      <td>JAPANESE</td>\n",
       "      <td>F</td>\n",
       "      <td>Japan</td>\n",
       "    </tr>\n",
       "    <tr>\n",
       "      <th>44556</th>\n",
       "      <td>19073144_1</td>\n",
       "      <td>_Tanaka_</td>\n",
       "      <td>_Kenji_</td>\n",
       "      <td>JAPANESE</td>\n",
       "      <td>M</td>\n",
       "      <td>Japan</td>\n",
       "    </tr>\n",
       "    <tr>\n",
       "      <th>44557</th>\n",
       "      <td>8449402_2</td>\n",
       "      <td>_Tanaka_</td>\n",
       "      <td>_keiji_</td>\n",
       "      <td>JAPANESE</td>\n",
       "      <td>M</td>\n",
       "      <td>Japan</td>\n",
       "    </tr>\n",
       "    <tr>\n",
       "      <th>44558</th>\n",
       "      <td>10671491_5</td>\n",
       "      <td>_Tanaka_</td>\n",
       "      <td>_keiji_</td>\n",
       "      <td>JAPANESE</td>\n",
       "      <td>M</td>\n",
       "      <td>Japan</td>\n",
       "    </tr>\n",
       "    <tr>\n",
       "      <th>44559</th>\n",
       "      <td>18283803_5</td>\n",
       "      <td>_Tanaka_</td>\n",
       "      <td>_Kei_</td>\n",
       "      <td>JAPANESE</td>\n",
       "      <td>-</td>\n",
       "      <td>Japan</td>\n",
       "    </tr>\n",
       "    <tr>\n",
       "      <th>44560</th>\n",
       "      <td>8913105_4</td>\n",
       "      <td>_Tanaka_</td>\n",
       "      <td>_kiyoshi_</td>\n",
       "      <td>JAPANESE</td>\n",
       "      <td>M</td>\n",
       "      <td>Japan</td>\n",
       "    </tr>\n",
       "    <tr>\n",
       "      <th>44561</th>\n",
       "      <td>6678271_2</td>\n",
       "      <td>_Sasaki_</td>\n",
       "      <td>_takashi_</td>\n",
       "      <td>JAPANESE</td>\n",
       "      <td>M</td>\n",
       "      <td>Japan</td>\n",
       "    </tr>\n",
       "    <tr>\n",
       "      <th>44562</th>\n",
       "      <td>3097163_3</td>\n",
       "      <td>_Sasaki_</td>\n",
       "      <td>_toyoshi_</td>\n",
       "      <td>JAPANESE</td>\n",
       "      <td>M</td>\n",
       "      <td>Japan</td>\n",
       "    </tr>\n",
       "    <tr>\n",
       "      <th>44563</th>\n",
       "      <td>3800425_1</td>\n",
       "      <td>_Sasaki_</td>\n",
       "      <td>_tetsuo_</td>\n",
       "      <td>JAPANESE</td>\n",
       "      <td>M</td>\n",
       "      <td>Japan</td>\n",
       "    </tr>\n",
       "    <tr>\n",
       "      <th>44564</th>\n",
       "      <td>9714755_2</td>\n",
       "      <td>_Sasaki_</td>\n",
       "      <td>_takayo_</td>\n",
       "      <td>JAPANESE</td>\n",
       "      <td>F</td>\n",
       "      <td>Japan</td>\n",
       "    </tr>\n",
       "    <tr>\n",
       "      <th>44565</th>\n",
       "      <td>7880090_2</td>\n",
       "      <td>_Haddad_</td>\n",
       "      <td>_may_</td>\n",
       "      <td>ARAB</td>\n",
       "      <td>-</td>\n",
       "      <td>SaudiArabia</td>\n",
       "    </tr>\n",
       "    <tr>\n",
       "      <th>44566</th>\n",
       "      <td>16865091_1</td>\n",
       "      <td>_Haddad_</td>\n",
       "      <td>_Marianne_</td>\n",
       "      <td>FRENCH</td>\n",
       "      <td>F</td>\n",
       "      <td>France</td>\n",
       "    </tr>\n",
       "  </tbody>\n",
       "</table>\n",
       "<p>44567 rows × 6 columns</p>\n",
       "</div>"
      ],
      "text/plain": [
       "             AUID                              Last               First  \\\n",
       "0      12872768_1                           _Filho_     _Elias_Abdalla_   \n",
       "1      12565879_3                    _Bou_Abdallah_               _Jad_   \n",
       "2      17569133_1                      _Abdel_Aziz_             _Ayman_   \n",
       "3      11213157_2                      _Abdelmoula_             _Salma_   \n",
       "4      11439058_1                           _Abdou_           _Ibrahim_   \n",
       "5      10919608_3                 _Abou_El_Fettouh_             _Hazem_   \n",
       "6      17314740_3                        _Aboutaam_              _Rola_   \n",
       "7      16564217_2  _Alvim_de_Abreu_Silva_Rodrigues_    _Aida_Alexandra_   \n",
       "8       6339395_2      _Cristina_Affonso_Scaletsky_            _Isabel_   \n",
       "9       7796089_2                       _Agbenyega_             _Tsiri_   \n",
       "10      5473023_2             _Maria_Aguado_Garcia_              _Jose_   \n",
       "11     15153355_4                 _Aguilar_Guisado_           _Manuela_   \n",
       "12     11981185_4                   _Aguillon_Luna_            _Arturo_   \n",
       "13     12554913_2                      _Ahmadzadeh_               _Ali_   \n",
       "14     10066026_5                         _Ibrahim_             _Ahmed_   \n",
       "15     17642770_2                         _Letaief_             _Ahmed_   \n",
       "16     14766995_2                   _Shakeel_Ahmed_          _Mohammed_   \n",
       "17     16343417_1                     _Aksoy_Dogan_              _Alev_   \n",
       "18      3866040_3               _Nakatsukasa_Akune_           _Mitsumi_   \n",
       "19     12663244_3                           _Akyuz_             _Filiz_   \n",
       "20      2830628_1                       _Al_Gohary_           _Omaimah_   \n",
       "21     12113661_3                        _Al_Jedah_            _Jassim_   \n",
       "22      3104205_7                       _Al_Khatib_             _Shadi_   \n",
       "23      7520609_3                       _Al_Najjar_              _Azmi_   \n",
       "24       927746_1                     _Alba_Conejo_            _Emilio_   \n",
       "25     18451155_4                         _Llaguno_  _Sheila_Alcantara_   \n",
       "26      9431676_4                         _Alcocer_            _Marcos_   \n",
       "27      3720520_1               _Grazia_Alessandri_             _Maria_   \n",
       "28     10480445_2                       _Ali_Labib_             _Randa_   \n",
       "29     12636048_1                  _Allie_Hamdulay_           _Shameez_   \n",
       "...           ...                               ...                 ...   \n",
       "44537  12641914_1                             _Liu_           _Zhihong_   \n",
       "44538  16892144_4                             _Liu_         _Zhen_ying_   \n",
       "44539  15566960_5                             _Liu_               _Zhu_   \n",
       "44540  12828461_3                             _Liu_          _Zhengjie_   \n",
       "44541  12726928_3                             _Liu_         _Zhengchun_   \n",
       "44542  17802886_5                             _Liu_           _Ziliang_   \n",
       "44543  18032929_3                             _Liu_               _Zhe_   \n",
       "44544  16690641_1                             _Liu_            _Zulian_   \n",
       "44545  17554931_2                             _Liu_          _Zun_chun_   \n",
       "44546  18975769_5                             _Liu_           _Ze_zhou_   \n",
       "44547  19458823_2                             _Liu_          _Zhaochun_   \n",
       "44548   8734067_3                             _Liu_            _ziying_   \n",
       "44549   9706530_4                             _Liu_            _zhenyu_   \n",
       "44550   6068528_4                          _Tanaka_             _kenzo_   \n",
       "44551    180046_3                          _Tanaka_            _kimiko_   \n",
       "44552   1942669_3                          _Tanaka_          _kazuhiro_   \n",
       "44553   9571188_3                          _Tanaka_              _koji_   \n",
       "44554  11071249_4                          _Tanaka_            _Kousei_   \n",
       "44555  12828613_4                          _Tanaka_             _Kyoko_   \n",
       "44556  19073144_1                          _Tanaka_             _Kenji_   \n",
       "44557   8449402_2                          _Tanaka_             _keiji_   \n",
       "44558  10671491_5                          _Tanaka_             _keiji_   \n",
       "44559  18283803_5                          _Tanaka_               _Kei_   \n",
       "44560   8913105_4                          _Tanaka_           _kiyoshi_   \n",
       "44561   6678271_2                          _Sasaki_           _takashi_   \n",
       "44562   3097163_3                          _Sasaki_           _toyoshi_   \n",
       "44563   3800425_1                          _Sasaki_            _tetsuo_   \n",
       "44564   9714755_2                          _Sasaki_            _takayo_   \n",
       "44565   7880090_2                          _Haddad_               _may_   \n",
       "44566  16865091_1                          _Haddad_          _Marianne_   \n",
       "\n",
       "         Ethnea Genni          PubCountry  \n",
       "0      HISPANIC     M              Brazil  \n",
       "1          ARAB     M              France  \n",
       "2          ARAB     M                 USA  \n",
       "3          ARAB     F             Tunisia  \n",
       "4          ARAB     M               Egypt  \n",
       "5          ARAB     M                 USA  \n",
       "6          ARAB     F              France  \n",
       "7      HISPANIC     F              Brazil  \n",
       "8      HISPANIC     F              Brazil  \n",
       "9       AFRICAN     -               Ghana  \n",
       "10     HISPANIC     M               Spain  \n",
       "11     HISPANIC     F               Spain  \n",
       "12     HISPANIC     M                 USA  \n",
       "13         ARAB     M                Iran  \n",
       "14         ARAB     M  UnitedArabEmirates  \n",
       "15         ARAB     M             Tunisia  \n",
       "16         ARAB     M                 USA  \n",
       "17      TURKISH     F              Turkey  \n",
       "18     JAPANESE     -               Japan  \n",
       "19      TURKISH     F              Turkey  \n",
       "20         ARAB     F         SaudiArabia  \n",
       "21         ARAB     M               Qatar  \n",
       "22         ARAB     -               India  \n",
       "23         ARAB     M              France  \n",
       "24     HISPANIC     M               Spain  \n",
       "25     HISPANIC     F                 USA  \n",
       "26     HISPANIC     M                  UK  \n",
       "27      ITALIAN     F               Italy  \n",
       "28         ARAB     F               Egypt  \n",
       "29      AFRICAN     -         SouthAfrica  \n",
       "...         ...   ...                 ...  \n",
       "44537   CHINESE     -               China  \n",
       "44538   CHINESE     -               China  \n",
       "44539   CHINESE     -               China  \n",
       "44540   CHINESE     -                 USA  \n",
       "44541   CHINESE     -               China  \n",
       "44542   CHINESE     -               China  \n",
       "44543   CHINESE     -               China  \n",
       "44544   CHINESE     -                  UK  \n",
       "44545   CHINESE     -               China  \n",
       "44546   CHINESE     -               China  \n",
       "44547   CHINESE     -               China  \n",
       "44548   CHINESE     M                 USA  \n",
       "44549   CHINESE     M               China  \n",
       "44550  JAPANESE     M               Japan  \n",
       "44551  JAPANESE     F                 USA  \n",
       "44552  JAPANESE     M               Japan  \n",
       "44553  JAPANESE     M               Japan  \n",
       "44554  JAPANESE     M               Japan  \n",
       "44555  JAPANESE     F               Japan  \n",
       "44556  JAPANESE     M               Japan  \n",
       "44557  JAPANESE     M               Japan  \n",
       "44558  JAPANESE     M               Japan  \n",
       "44559  JAPANESE     -               Japan  \n",
       "44560  JAPANESE     M               Japan  \n",
       "44561  JAPANESE     M               Japan  \n",
       "44562  JAPANESE     M               Japan  \n",
       "44563  JAPANESE     M               Japan  \n",
       "44564  JAPANESE     F               Japan  \n",
       "44565      ARAB     -         SaudiArabia  \n",
       "44566    FRENCH     F              France  \n",
       "\n",
       "[44567 rows x 6 columns]"
      ]
     },
     "execution_count": 15,
     "metadata": {},
     "output_type": "execute_result"
    }
   ],
   "source": [
    "from __future__ import division, print_function, absolute_import\n",
    "import pandas as pd\n",
    "import numpy as np\n",
    "import matplotlib.pyplot as plt\n",
    "%matplotlib inline\n",
    "\n",
    "ethnea_df = pd.read_csv('names_ethnea_genni_country_sample.csv')\n",
    "ethnea_df"
   ]
  },
  {
   "cell_type": "code",
   "execution_count": 16,
   "metadata": {
    "collapsed": true
   },
   "outputs": [],
   "source": [
    "#combine first_name and last_name\n",
    "name_series = ethnea_df['Last'] + ethnea_df['First']\n",
    "name_series = name_series.replace('_',' ',regex=True)\n",
    "name_series = name_series.str.strip()\n",
    "name_series = name_series.str.upper()\n",
    "\n",
    "#extract ethnicity rows\n",
    "ethnic_series = ethnea_df.Ethnea.values"
   ]
  },
  {
   "cell_type": "code",
   "execution_count": 4,
   "metadata": {
    "collapsed": true
   },
   "outputs": [],
   "source": [
    "# assume ethnic is a document\n",
    "ethnic_dict = {}\n",
    "for i,ethnic_i in enumerate(ethnic_series):\n",
    "    if ethnic_i not in ethnic_dict:\n",
    "        ethnic_dict[ethnic_i] = []\n",
    "    # split the name\n",
    "    split_name = name_series[i].split(' ')\n",
    "    for name_j in split_name:\n",
    "        if name_j!='':\n",
    "            ethnic_dict[ethnic_i].append(name_j)"
   ]
  },
  {
   "cell_type": "code",
   "execution_count": 5,
   "metadata": {},
   "outputs": [],
   "source": [
    "ethnic_keys = list(ethnic_dict.keys())\n"
   ]
  },
  {
   "cell_type": "code",
   "execution_count": 9,
   "metadata": {},
   "outputs": [],
   "source": [
    "def transform_labels(x):\n",
    "    y = np.zeros(len(ethnic_keys))\n",
    "    y[ethnic_keys.index(x)]=1\n",
    "    return y\n",
    "\n",
    "labels = np.array(list(map(lambda x: transform_labels(x),ethnic_series)))"
   ]
  },
  {
   "cell_type": "code",
   "execution_count": 10,
   "metadata": {},
   "outputs": [
    {
     "data": {
      "text/plain": [
       "array([[ 1.,  0.,  0., ...,  0.,  0.,  0.],\n",
       "       [ 0.,  1.,  0., ...,  0.,  0.,  0.],\n",
       "       [ 0.,  1.,  0., ...,  0.,  0.,  0.],\n",
       "       ..., \n",
       "       [ 0.,  0.,  0., ...,  0.,  0.,  0.],\n",
       "       [ 0.,  1.,  0., ...,  0.,  0.,  0.],\n",
       "       [ 0.,  0.,  0., ...,  0.,  0.,  0.]])"
      ]
     },
     "execution_count": 10,
     "metadata": {},
     "output_type": "execute_result"
    }
   ],
   "source": [
    "labels"
   ]
  },
  {
   "cell_type": "code",
   "execution_count": 1,
   "metadata": {},
   "outputs": [],
   "source": [
    "from imblearn.over_sampling import SMOTE"
   ]
  },
  {
   "cell_type": "code",
   "execution_count": 8,
   "metadata": {},
   "outputs": [],
   "source": [
    "import pickle\n",
    "with open('traintest.pickle','rb') as f:\n",
    "    trainx,trainy,testx,testy = pickle.load(f)"
   ]
  },
  {
   "cell_type": "code",
   "execution_count": 21,
   "metadata": {},
   "outputs": [
    {
     "name": "stderr",
     "output_type": "stream",
     "text": [
      "/home/nnikolaus/anaconda3/lib/python3.6/site-packages/sklearn/utils/deprecation.py:75: DeprecationWarning: Function _ratio_float is deprecated; Use a float for 'ratio' is deprecated from version 0.2. The support will be removed in 0.4. Use a dict, str, or a callable instead.\n",
      "  warnings.warn(msg, category=DeprecationWarning)\n"
     ]
    }
   ],
   "source": [
    "sm = SMOTE(random_state=12, ratio=1.0)\n",
    "x_res, y_res = sm.fit_sample(trainx,[np.where(x>0)[0][0] for x in trainy])"
   ]
  },
  {
   "cell_type": "code",
   "execution_count": 22,
   "metadata": {},
   "outputs": [
    {
     "data": {
      "text/plain": [
       "(265374, 50)"
      ]
     },
     "execution_count": 22,
     "metadata": {},
     "output_type": "execute_result"
    }
   ],
   "source": [
    "x_res.shape"
   ]
  },
  {
   "cell_type": "code",
   "execution_count": 23,
   "metadata": {},
   "outputs": [
    {
     "data": {
      "text/plain": [
       "(265374,)"
      ]
     },
     "execution_count": 23,
     "metadata": {},
     "output_type": "execute_result"
    }
   ],
   "source": [
    "y_res.shape"
   ]
  },
  {
   "cell_type": "code",
   "execution_count": 28,
   "metadata": {},
   "outputs": [
    {
     "data": {
      "text/plain": [
       "array([ 0,  1,  2,  3,  4,  5,  6,  7,  8,  9, 10, 11, 12, 13, 14, 15, 16,\n",
       "       17, 18, 19, 20, 21, 22])"
      ]
     },
     "execution_count": 28,
     "metadata": {},
     "output_type": "execute_result"
    }
   ],
   "source": [
    "np.unique(y_res)"
   ]
  },
  {
   "cell_type": "code",
   "execution_count": 29,
   "metadata": {
    "collapsed": true
   },
   "outputs": [],
   "source": [
    "yes = np.array([np.where(x>0)[0][0] for x in trainy])"
   ]
  },
  {
   "cell_type": "code",
   "execution_count": 30,
   "metadata": {},
   "outputs": [
    {
     "data": {
      "text/plain": [
       "array([ 0,  1,  2,  3,  4,  5,  6,  7,  8,  9, 10, 11, 12, 13, 14, 15, 16,\n",
       "       17, 18, 19, 20, 21, 22])"
      ]
     },
     "execution_count": 30,
     "metadata": {},
     "output_type": "execute_result"
    }
   ],
   "source": [
    "np.unique(yes)"
   ]
  },
  {
   "cell_type": "code",
   "execution_count": 37,
   "metadata": {},
   "outputs": [
    {
     "data": {
      "text/plain": [
       "(23,)"
      ]
     },
     "execution_count": 37,
     "metadata": {},
     "output_type": "execute_result"
    }
   ],
   "source": [
    "np.unique(ethnea_df.Ethnea.values).shape"
   ]
  },
  {
   "cell_type": "code",
   "execution_count": 38,
   "metadata": {
    "collapsed": true
   },
   "outputs": [],
   "source": [
    "with open('traintest-smote.pickle','wb') as f:\n",
    "    pickle.dump((x_res,y_res),f)"
   ]
  },
  {
   "cell_type": "code",
   "execution_count": 45,
   "metadata": {
    "collapsed": true
   },
   "outputs": [],
   "source": [
    "import pickle\n",
    "with open('traintest.pickle','rb') as f:\n",
    "    trainx,testx,trainy,testy = pickle.load(f)"
   ]
  },
  {
   "cell_type": "code",
   "execution_count": 46,
   "metadata": {},
   "outputs": [
    {
     "data": {
      "text/plain": [
       "(35653, 50)"
      ]
     },
     "execution_count": 46,
     "metadata": {},
     "output_type": "execute_result"
    }
   ],
   "source": [
    "trainx.shape"
   ]
  },
  {
   "cell_type": "code",
   "execution_count": 47,
   "metadata": {},
   "outputs": [
    {
     "data": {
      "text/plain": [
       "(35653, 23)"
      ]
     },
     "execution_count": 47,
     "metadata": {},
     "output_type": "execute_result"
    }
   ],
   "source": [
    "trainy.shape"
   ]
  },
  {
   "cell_type": "code",
   "execution_count": 48,
   "metadata": {},
   "outputs": [
    {
     "data": {
      "text/plain": [
       "(8914, 50)"
      ]
     },
     "execution_count": 48,
     "metadata": {},
     "output_type": "execute_result"
    }
   ],
   "source": [
    "testx.shape"
   ]
  },
  {
   "cell_type": "code",
   "execution_count": 49,
   "metadata": {},
   "outputs": [
    {
     "data": {
      "text/plain": [
       "(8914, 23)"
      ]
     },
     "execution_count": 49,
     "metadata": {},
     "output_type": "execute_result"
    }
   ],
   "source": [
    "testy.shape"
   ]
  },
  {
   "cell_type": "code",
   "execution_count": 51,
   "metadata": {},
   "outputs": [
    {
     "name": "stderr",
     "output_type": "stream",
     "text": [
      "/home/nnikolaus/anaconda3/lib/python3.6/site-packages/sklearn/utils/deprecation.py:75: DeprecationWarning: Function _ratio_float is deprecated; Use a float for 'ratio' is deprecated from version 0.2. The support will be removed in 0.4. Use a dict, str, or a callable instead.\n",
      "  warnings.warn(msg, category=DeprecationWarning)\n"
     ]
    }
   ],
   "source": [
    "sm = SMOTE(random_state=12, ratio=1.0)\n",
    "x_res, y_res = sm.fit_sample(trainx,[np.where(x>0)[0][0] for x in trainy])"
   ]
  },
  {
   "cell_type": "code",
   "execution_count": 52,
   "metadata": {},
   "outputs": [
    {
     "data": {
      "text/plain": [
       "(265374, 50)"
      ]
     },
     "execution_count": 52,
     "metadata": {},
     "output_type": "execute_result"
    }
   ],
   "source": [
    "x_res.shape"
   ]
  },
  {
   "cell_type": "code",
   "execution_count": 56,
   "metadata": {},
   "outputs": [
    {
     "data": {
      "text/plain": [
       "(array([ 34614.,  23076.,  23076.,  23076.,  23076.,  34614.,  23076.,\n",
       "         23076.,  23076.,  34614.]),\n",
       " array([  0. ,   2.2,   4.4,   6.6,   8.8,  11. ,  13.2,  15.4,  17.6,\n",
       "         19.8,  22. ]),\n",
       " <a list of 10 Patch objects>)"
      ]
     },
     "execution_count": 56,
     "metadata": {},
     "output_type": "execute_result"
    },
    {
     "data": {
      "image/png": "[encoded data removed]",
      "text/plain": [
       "<matplotlib.figure.Figure at 0x7f7af2332ba8>"
      ]
     },
     "metadata": {},
     "output_type": "display_data"
    }
   ],
   "source": [
    "plt.hist(y_res)"
   ]
  },
  {
   "cell_type": "code",
   "execution_count": 57,
   "metadata": {
    "collapsed": true
   },
   "outputs": [],
   "source": [
    "with open('traintest-smote.pickle','wb') as f:\n",
    "    pickle.dump((x_res,y_res),f)"
   ]
  },
  {
   "cell_type": "code",
   "execution_count": null,
   "metadata": {
    "collapsed": true
   },
   "outputs": [],
   "source": []
  }
 ],
 "metadata": {
  "kernelspec": {
   "display_name": "Python 3",
   "language": "python",
   "name": "python3"
  },
  "language_info": {
   "codemirror_mode": {
    "name": "ipython",
    "version": 3
   },
   "file_extension": ".py",
   "mimetype": "text/x-python",
   "name": "python",
   "nbconvert_exporter": "python",
   "pygments_lexer": "ipython3",
   "version": "3.6.1"
  }
 },
 "nbformat": 4,
 "nbformat_minor": 2
}
