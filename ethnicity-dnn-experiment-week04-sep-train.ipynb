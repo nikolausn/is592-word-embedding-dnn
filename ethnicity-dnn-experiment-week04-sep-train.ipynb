{
 "cells": [
  {
   "cell_type": "code",
   "execution_count": 1,
   "metadata": {
    "collapsed": true
   },
   "outputs": [],
   "source": [
    "from __future__ import division, print_function, absolute_import\n",
    "import pandas as pd\n",
    "import numpy as np\n",
    "import matplotlib.pyplot as plt\n",
    "import pickle\n",
    "%matplotlib inline"
   ]
  },
  {
   "cell_type": "code",
   "execution_count": 2,
   "metadata": {},
   "outputs": [
    {
     "data": {
      "text/html": [
       "<div>\n",
       "<style>\n",
       "    .dataframe thead tr:only-child th {\n",
       "        text-align: right;\n",
       "    }\n",
       "\n",
       "    .dataframe thead th {\n",
       "        text-align: left;\n",
       "    }\n",
       "\n",
       "    .dataframe tbody tr th {\n",
       "        vertical-align: top;\n",
       "    }\n",
       "</style>\n",
       "<table border=\"1\" class=\"dataframe\">\n",
       "  <thead>\n",
       "    <tr style=\"text-align: right;\">\n",
       "      <th></th>\n",
       "      <th>AUID</th>\n",
       "      <th>Last</th>\n",
       "      <th>First</th>\n",
       "      <th>Ethnea</th>\n",
       "      <th>Genni</th>\n",
       "      <th>PubCountry</th>\n",
       "    </tr>\n",
       "  </thead>\n",
       "  <tbody>\n",
       "    <tr>\n",
       "      <th>0</th>\n",
       "      <td>12872768_1</td>\n",
       "      <td>_Filho_</td>\n",
       "      <td>_Elias_Abdalla_</td>\n",
       "      <td>HISPANIC</td>\n",
       "      <td>M</td>\n",
       "      <td>Brazil</td>\n",
       "    </tr>\n",
       "    <tr>\n",
       "      <th>1</th>\n",
       "      <td>12565879_3</td>\n",
       "      <td>_Bou_Abdallah_</td>\n",
       "      <td>_Jad_</td>\n",
       "      <td>ARAB</td>\n",
       "      <td>M</td>\n",
       "      <td>France</td>\n",
       "    </tr>\n",
       "    <tr>\n",
       "      <th>2</th>\n",
       "      <td>17569133_1</td>\n",
       "      <td>_Abdel_Aziz_</td>\n",
       "      <td>_Ayman_</td>\n",
       "      <td>ARAB</td>\n",
       "      <td>M</td>\n",
       "      <td>USA</td>\n",
       "    </tr>\n",
       "    <tr>\n",
       "      <th>3</th>\n",
       "      <td>11213157_2</td>\n",
       "      <td>_Abdelmoula_</td>\n",
       "      <td>_Salma_</td>\n",
       "      <td>ARAB</td>\n",
       "      <td>F</td>\n",
       "      <td>Tunisia</td>\n",
       "    </tr>\n",
       "    <tr>\n",
       "      <th>4</th>\n",
       "      <td>11439058_1</td>\n",
       "      <td>_Abdou_</td>\n",
       "      <td>_Ibrahim_</td>\n",
       "      <td>ARAB</td>\n",
       "      <td>M</td>\n",
       "      <td>Egypt</td>\n",
       "    </tr>\n",
       "  </tbody>\n",
       "</table>\n",
       "</div>"
      ],
      "text/plain": [
       "         AUID            Last            First    Ethnea Genni PubCountry\n",
       "0  12872768_1         _Filho_  _Elias_Abdalla_  HISPANIC     M     Brazil\n",
       "1  12565879_3  _Bou_Abdallah_            _Jad_      ARAB     M     France\n",
       "2  17569133_1    _Abdel_Aziz_          _Ayman_      ARAB     M        USA\n",
       "3  11213157_2    _Abdelmoula_          _Salma_      ARAB     F    Tunisia\n",
       "4  11439058_1         _Abdou_        _Ibrahim_      ARAB     M      Egypt"
      ]
     },
     "execution_count": 2,
     "metadata": {},
     "output_type": "execute_result"
    }
   ],
   "source": [
    "ethnea_df = pd.read_csv('names_ethnea_genni_country_sample.csv')\n",
    "ethnea_df.head()"
   ]
  },
  {
   "cell_type": "code",
   "execution_count": 3,
   "metadata": {
    "collapsed": true
   },
   "outputs": [],
   "source": [
    "# First thing first, use the character feature for making the dnn model\n",
    "def extract_structure(word,n_char=2):\n",
    "    x_struct = []\n",
    "    word_len = len(word) + n_char\n",
    "    n_char-=1\n",
    "    counter = 0\n",
    "    for i in range(word_len):\n",
    "        end = i+1\n",
    "        start = (i - n_char) if (i - n_char) > 0 else 0\n",
    "        if word[start:end]!='_' and word[start:end]!='':\n",
    "        #if word[start:end]!='_':\n",
    "            x_struct.append(word[start:end])\n",
    "    return x_struct\n",
    "\n",
    "first_name_struct = ethnea_df.First.apply(lambda x: extract_structure(x.lower(),3))\n",
    "last_name_struct = ethnea_df.Last.apply(lambda x: extract_structure(x.lower(),3))"
   ]
  },
  {
   "cell_type": "code",
   "execution_count": 4,
   "metadata": {},
   "outputs": [
    {
     "data": {
      "text/plain": [
       "0    [_e, _el, eli, lia, ias, as_, s_a, _ab, abd, b...\n",
       "1                              [_j, _ja, jad, ad_, d_]\n",
       "2                    [_a, _ay, aym, yma, man, an_, n_]\n",
       "3                    [_s, _sa, sal, alm, lma, ma_, a_]\n",
       "4          [_i, _ib, ibr, bra, rah, ahi, him, im_, m_]\n",
       "Name: First, dtype: object"
      ]
     },
     "execution_count": 4,
     "metadata": {},
     "output_type": "execute_result"
    }
   ],
   "source": [
    "first_name_struct.head()"
   ]
  },
  {
   "cell_type": "code",
   "execution_count": 5,
   "metadata": {
    "collapsed": true
   },
   "outputs": [],
   "source": [
    "# make struct dictionary\n",
    "struct_dict = {}\n",
    "for name_struct_i in first_name_struct:\n",
    "    for struct_j in name_struct_i:\n",
    "        if struct_j not in struct_dict:\n",
    "            struct_dict[struct_j]=0\n",
    "        struct_dict[struct_j]+=1\n",
    "for name_struct_i in last_name_struct:\n",
    "    for struct_j in name_struct_i:\n",
    "        if struct_j not in struct_dict:\n",
    "            struct_dict[struct_j]=0\n",
    "        struct_dict[struct_j]+=1"
   ]
  },
  {
   "cell_type": "code",
   "execution_count": 6,
   "metadata": {
    "collapsed": true
   },
   "outputs": [],
   "source": [
    "struct_dict_keys = list(struct_dict.keys())\n",
    "ethnic_series = ethnea_df['Ethnea'].str.lower()\n",
    "ethnic_keys = list(np.unique(ethnic_series.values))"
   ]
  },
  {
   "cell_type": "code",
   "execution_count": 7,
   "metadata": {
    "collapsed": true
   },
   "outputs": [],
   "source": [
    "# load test train data\n",
    "with open('train_test_fix_index.pickle', 'rb') as f:\n",
    "    trainIndex,testIndex,trainX,trainY,testX,testY,ethnic_keys,tmp = pickle.load(f)"
   ]
  },
  {
   "cell_type": "code",
   "execution_count": 8,
   "metadata": {
    "collapsed": true
   },
   "outputs": [],
   "source": [
    "def transform_structure(name_struct):\n",
    "    list_structure = []\n",
    "    for x in name_struct:\n",
    "        try:\n",
    "            list_structure.append(struct_dict_keys.index(x)+1)\n",
    "        except BaseException:\n",
    "            list_structure.append(0)\n",
    "    #add pading 0 for structure less than num_input\n",
    "    #for i in range(len(list_structure),timesteps):\n",
    "    #    list_structure.append(0)\n",
    "    return list_structure   \n",
    "    #return [*map(lambda x:struct_dict_keys.index(x)+1, name_struct)]\n",
    "\n",
    "#data_source = full_name_struct.apply(lambda x: transform_structure(x))\n",
    "\n",
    "def generate_batch(first_name, last_name, i, batch_size=10000):\n",
    "    len_name = len(first_name)\n",
    "    start = i*batch_size\n",
    "    end = start+batch_size if start+batch_size < len_name else len_name\n",
    "    len_mat = end - start\n",
    "    #first_name_ds_mat = np.zeros((len_mat,50),dtype=np.int32)\n",
    "    #last_name_ds_mat = np.zeros((len_mat,50),dtype=np.int32)\n",
    "    first_name_ds_mat = first_name[start:end]\n",
    "    last_name_ds_mat = last_name[start:end]\n",
    "    first_name_ds_mat = pad_sequences(first_name_ds_mat.apply(lambda x: transform_structure(x)),maxlen=50,value=0.)\n",
    "    #first_name_ds_mat = first_name_ds_mat.reshape(first_name_ds_mat.shape[0],1,first_name_ds_mat.shape[1])\n",
    "    last_name_ds_mat = pad_sequences(last_name_ds_mat.apply(lambda x:transform_structure(x)),maxlen=50,value=0.)\n",
    "    #last_name_ds_mat = last_name_ds_mat.reshape(last_name_ds_mat.shape[0],1,last_name_ds_mat.shape[1])\n",
    "\n",
    "    \"\"\"\n",
    "    for i in range(len_mat):\n",
    "        x = first_name_struct.iloc[i]\n",
    "        for y in x:\n",
    "            first_name_ds_mat[i,struct_dict_keys.index(y)]+=1\n",
    "        x = last_name_struct.iloc[i]\n",
    "        for y in x:\n",
    "            last_name_ds_mat[i,struct_dict_keys.index(y)]+=1\n",
    "    \"\"\"\n",
    "    return first_name_ds_mat,last_name_ds_mat, range(start,end)\n"
   ]
  },
  {
   "cell_type": "code",
   "execution_count": 9,
   "metadata": {
    "collapsed": true
   },
   "outputs": [],
   "source": [
    "first_name_ds = first_name_struct.apply(lambda x:transform_structure(x))\n",
    "last_name_ds = last_name_struct.apply(lambda x:transform_structure(x))"
   ]
  },
  {
   "cell_type": "code",
   "execution_count": 10,
   "metadata": {},
   "outputs": [
    {
     "data": {
      "text/plain": [
       "8626"
      ]
     },
     "execution_count": 10,
     "metadata": {},
     "output_type": "execute_result"
    }
   ],
   "source": [
    "len(struct_dict_keys)"
   ]
  },
  {
   "cell_type": "code",
   "execution_count": 12,
   "metadata": {},
   "outputs": [
    {
     "data": {
      "text/plain": [
       "(44567,)"
      ]
     },
     "execution_count": 12,
     "metadata": {},
     "output_type": "execute_result"
    }
   ],
   "source": [
    "first_name_ds"
   ]
  },
  {
   "cell_type": "code",
   "execution_count": 13,
   "metadata": {
    "collapsed": true
   },
   "outputs": [],
   "source": [
    "def transform_labels(x):\n",
    "    y = np.zeros(len(ethnic_keys))\n",
    "    y[ethnic_keys.index(x)]=1\n",
    "    return y\n",
    "\n",
    "labels = np.array(list(map(lambda x: transform_labels(x),ethnic_series)))"
   ]
  },
  {
   "cell_type": "code",
   "execution_count": 17,
   "metadata": {},
   "outputs": [
    {
     "data": {
      "text/plain": [
       "(44567, 23)"
      ]
     },
     "execution_count": 17,
     "metadata": {},
     "output_type": "execute_result"
    }
   ],
   "source": [
    "labels.shape"
   ]
  },
  {
   "cell_type": "code",
   "execution_count": 14,
   "metadata": {},
   "outputs": [
    {
     "name": "stderr",
     "output_type": "stream",
     "text": [
      "Using TensorFlow backend.\n"
     ]
    }
   ],
   "source": [
    "import numpy as np\n",
    "import keras\n",
    "from keras.models import Sequential\n",
    "from keras.layers import Dense\n",
    "from keras.layers import LSTM\n",
    "from keras.layers import Bidirectional\n",
    "from keras.layers import TimeDistributed\n",
    "from keras.layers.convolutional import Conv1D\n",
    "from keras.layers.convolutional import MaxPooling1D\n",
    "from keras.layers.embeddings import Embedding\n",
    "from keras.preprocessing import sequence\n",
    "from tflearn.data_utils import to_categorical, pad_sequences\n",
    "\n"
   ]
  },
  {
   "cell_type": "code",
   "execution_count": 19,
   "metadata": {},
   "outputs": [
    {
     "name": "stdout",
     "output_type": "stream",
     "text": [
      "_________________________________________________________________\n",
      "Layer (type)                 Output Shape              Param #   \n",
      "=================================================================\n",
      "embedding_2 (Embedding)      (None, 50, 500)           4313500   \n",
      "_________________________________________________________________\n",
      "bidirectional_1 (Bidirection (None, 100)               220400    \n",
      "_________________________________________________________________\n",
      "dense_1 (Dense)              (None, 512)               51712     \n",
      "_________________________________________________________________\n",
      "dense_2 (Dense)              (None, 256)               131328    \n",
      "_________________________________________________________________\n",
      "dense_3 (Dense)              (None, 23)                5911      \n",
      "=================================================================\n",
      "Total params: 4,722,851\n",
      "Trainable params: 4,722,851\n",
      "Non-trainable params: 0\n",
      "_________________________________________________________________\n"
     ]
    }
   ],
   "source": [
    "from keras.layers import Input\n",
    "from keras.models import Model\n",
    "\n",
    "seq_length = 50\n",
    "\n",
    "embedding_vector_length = 500\n",
    "\n",
    "model = Sequential()\n",
    "model.add(Embedding(len(struct_dict_keys)+1,embedding_vector_length,input_length=seq_length))\n",
    "model.add(Bidirectional(LSTM(seq_length,return_sequences=False)))\n",
    "model.add(keras.layers.Dense(512,activation='relu'))\n",
    "model.add(keras.layers.Dense(256,activation='relu'))\n",
    "model.add(keras.layers.Dense(len(ethnic_keys),activation='softmax'))\n",
    "model.compile(loss='categorical_crossentropy',optimizer='adam',metrics=['accuracy'])\n",
    "model.summary()"
   ]
  },
  {
   "cell_type": "code",
   "execution_count": null,
   "metadata": {},
   "outputs": [
    {
     "name": "stdout",
     "output_type": "stream",
     "text": [
      "Epoch 1/1\n",
      "35653/35653 [==============================] - 72s - loss: 3.1020 - acc: 0.2360     \n",
      "Accuracy: 31.39%\n",
      "Epoch 1/1\n",
      "35653/35653 [==============================] - 70s - loss: 2.8319 - acc: 0.3261     \n",
      "Accuracy: 31.39%\n",
      "Epoch 1/1\n",
      "35653/35653 [==============================] - 70s - loss: 2.5093 - acc: 0.3261     \n",
      "Accuracy: 31.39%\n",
      "Epoch 1/1\n",
      "35653/35653 [==============================] - 70s - loss: 2.3436 - acc: 0.3298     \n",
      "Accuracy: 32.41%\n",
      "Epoch 1/1\n",
      "35653/35653 [==============================] - 70s - loss: 2.2456 - acc: 0.3328     \n",
      "Accuracy: 32.74%\n",
      "Epoch 1/1\n",
      "35653/35653 [==============================] - 70s - loss: 2.1271 - acc: 0.3722     \n",
      "Accuracy: 41.42%\n",
      "Epoch 1/1\n",
      "35653/35653 [==============================] - 70s - loss: 1.9718 - acc: 0.4246     \n",
      "Accuracy: 41.54%\n",
      "Epoch 1/1\n",
      "35653/35653 [==============================] - 70s - loss: 1.8401 - acc: 0.4431     \n",
      "Accuracy: 47.82%\n",
      "Epoch 1/1\n",
      "35653/35653 [==============================] - 70s - loss: 1.7083 - acc: 0.5108     \n",
      "Accuracy: 52.79%\n",
      "Epoch 1/1\n",
      "35653/35653 [==============================] - 70s - loss: 1.5990 - acc: 0.5423     \n",
      "Accuracy: 53.90%\n",
      "Epoch 1/1\n",
      "35653/35653 [==============================] - 70s - loss: 1.5127 - acc: 0.5569     \n",
      "Accuracy: 55.09%\n",
      "Epoch 1/1\n",
      "35653/35653 [==============================] - 70s - loss: 1.4360 - acc: 0.5693     \n",
      "Accuracy: 57.03%\n",
      "Epoch 1/1\n",
      "35653/35653 [==============================] - 70s - loss: 1.3645 - acc: 0.5957     \n",
      "Accuracy: 59.24%\n",
      "Epoch 1/1\n",
      "35653/35653 [==============================] - 70s - loss: 1.2934 - acc: 0.6215     \n",
      "Accuracy: 60.92%\n",
      "Epoch 1/1\n",
      "35653/35653 [==============================] - 70s - loss: 1.2272 - acc: 0.6417     \n",
      "Accuracy: 62.98%\n",
      "Epoch 1/1\n",
      "35653/35653 [==============================] - 70s - loss: 1.1642 - acc: 0.6642     \n",
      "Accuracy: 64.66%\n",
      "Epoch 1/1\n",
      "35653/35653 [==============================] - 70s - loss: 1.1071 - acc: 0.6852     \n",
      "Accuracy: 66.04%\n",
      "Epoch 1/1\n",
      "35653/35653 [==============================] - 70s - loss: 1.0581 - acc: 0.6990     \n",
      "Accuracy: 67.60%\n",
      "Epoch 1/1\n",
      "35653/35653 [==============================] - 70s - loss: 1.0135 - acc: 0.7153     \n",
      "Accuracy: 68.77%\n",
      "Epoch 1/1\n",
      "35653/35653 [==============================] - 71s - loss: 0.9736 - acc: 0.7250     \n",
      "Accuracy: 69.69%\n",
      "Epoch 1/1\n",
      "35653/35653 [==============================] - 70s - loss: 0.9363 - acc: 0.7366     \n",
      "Accuracy: 70.39%\n",
      "Epoch 1/1\n",
      "35653/35653 [==============================] - 70s - loss: 0.9041 - acc: 0.7455     \n",
      "Accuracy: 70.71%\n",
      "Epoch 1/1\n",
      "35653/35653 [==============================] - 70s - loss: 0.8716 - acc: 0.7557     \n",
      "Accuracy: 71.73%\n",
      "Epoch 1/1\n",
      "35653/35653 [==============================] - 70s - loss: 0.8408 - acc: 0.7664     \n",
      "Accuracy: 72.32%\n",
      "Epoch 1/1\n",
      "35653/35653 [==============================] - 70s - loss: 0.8098 - acc: 0.7736     \n",
      "Accuracy: 72.73%\n",
      "Epoch 1/1\n",
      "35653/35653 [==============================] - 70s - loss: 0.7831 - acc: 0.7814     \n",
      "Accuracy: 73.03%\n",
      "Epoch 1/1\n",
      "35653/35653 [==============================] - 70s - loss: 0.7589 - acc: 0.7865     \n",
      "Accuracy: 73.52%\n",
      "Epoch 1/1\n",
      "35653/35653 [==============================] - 70s - loss: 0.7392 - acc: 0.7926     \n",
      "Accuracy: 73.84%\n",
      "Epoch 1/1\n",
      "35653/35653 [==============================] - 70s - loss: 0.7192 - acc: 0.7965     \n",
      "Accuracy: 74.15%\n",
      "Epoch 1/1\n",
      "35653/35653 [==============================] - 70s - loss: 0.7015 - acc: 0.8007     \n",
      "Accuracy: 74.15%\n",
      "Epoch 1/1\n",
      "35653/35653 [==============================] - 70s - loss: 0.6865 - acc: 0.8040     \n",
      "Accuracy: 74.44%\n",
      "Epoch 1/1\n",
      "35653/35653 [==============================] - 70s - loss: 0.6697 - acc: 0.8080     \n",
      "Accuracy: 74.53%\n",
      "Epoch 1/1\n",
      "35653/35653 [==============================] - 70s - loss: 0.6556 - acc: 0.8131     \n",
      "Accuracy: 74.66%\n",
      "Epoch 1/1\n",
      "35653/35653 [==============================] - 70s - loss: 0.6468 - acc: 0.8131     \n",
      "Accuracy: 74.66%\n",
      "Epoch 1/1\n",
      "35653/35653 [==============================] - 70s - loss: 0.6343 - acc: 0.8193     \n",
      "Accuracy: 74.70%\n",
      "Epoch 1/1\n",
      "35653/35653 [==============================] - 71s - loss: 0.6235 - acc: 0.8208     \n",
      "Accuracy: 75.03%\n",
      "Epoch 1/1\n",
      "35653/35653 [==============================] - 70s - loss: 0.6123 - acc: 0.8256     \n",
      "Accuracy: 74.93%\n",
      "Epoch 1/1\n",
      "35653/35653 [==============================] - 70s - loss: 0.6044 - acc: 0.8282     \n",
      "Accuracy: 75.36%\n",
      "Epoch 1/1\n",
      "35653/35653 [==============================] - 70s - loss: 0.5899 - acc: 0.8304     \n",
      "Accuracy: 74.89%\n",
      "Epoch 1/1\n",
      "35653/35653 [==============================] - 70s - loss: 0.5847 - acc: 0.8308     \n",
      "Accuracy: 75.29%\n",
      "Epoch 1/1\n",
      "35653/35653 [==============================] - 70s - loss: 0.5746 - acc: 0.8334     \n",
      "Accuracy: 75.26%\n",
      "Epoch 1/1\n",
      "35653/35653 [==============================] - 70s - loss: 0.5655 - acc: 0.8368     \n",
      "Accuracy: 75.81%\n",
      "Epoch 1/1\n",
      "35653/35653 [==============================] - 70s - loss: 0.5577 - acc: 0.8385     \n",
      "Accuracy: 75.65%\n",
      "Epoch 1/1\n",
      "35653/35653 [==============================] - 70s - loss: 0.5512 - acc: 0.8387     \n",
      "Accuracy: 75.26%\n",
      "Epoch 1/1\n",
      "35653/35653 [==============================] - 70s - loss: 0.5446 - acc: 0.8405     \n",
      "Accuracy: 75.49%\n",
      "Epoch 1/1\n",
      "35653/35653 [==============================] - 70s - loss: 0.5410 - acc: 0.8397     \n",
      "Accuracy: 75.63%\n",
      "Epoch 1/1\n",
      "35653/35653 [==============================] - 70s - loss: 0.5348 - acc: 0.8416     \n",
      "Accuracy: 75.76%\n",
      "Epoch 1/1\n",
      "35653/35653 [==============================] - 69s - loss: 0.5247 - acc: 0.8442     \n",
      "Accuracy: 75.91%\n",
      "Epoch 1/1\n",
      "35653/35653 [==============================] - 70s - loss: 0.5216 - acc: 0.8447     \n",
      "Accuracy: 75.88%\n",
      "Epoch 1/1\n",
      "35653/35653 [==============================] - 70s - loss: 0.5143 - acc: 0.8474     \n",
      "Accuracy: 75.87%\n",
      "Epoch 1/1\n",
      "35653/35653 [==============================] - 70s - loss: 0.5084 - acc: 0.8471     \n",
      "Accuracy: 76.05%\n",
      "Epoch 1/1\n",
      "35653/35653 [==============================] - 70s - loss: 0.5058 - acc: 0.8475     \n",
      "Accuracy: 76.12%\n",
      "Epoch 1/1\n",
      "35653/35653 [==============================] - 70s - loss: 0.5018 - acc: 0.8496     \n",
      "Accuracy: 75.85%\n",
      "Epoch 1/1\n",
      "35653/35653 [==============================] - 70s - loss: 0.4968 - acc: 0.8501     \n",
      "Accuracy: 76.27%\n",
      "Epoch 1/1\n",
      "35653/35653 [==============================] - 70s - loss: 0.4935 - acc: 0.8500     \n",
      "Accuracy: 76.22%\n",
      "Epoch 1/1\n",
      "35653/35653 [==============================] - 70s - loss: 0.4917 - acc: 0.8499     \n",
      "Accuracy: 76.28%\n",
      "Epoch 1/1\n",
      "35653/35653 [==============================] - 70s - loss: 0.4897 - acc: 0.8506     \n",
      "Accuracy: 76.71%\n",
      "Epoch 1/1\n",
      "35653/35653 [==============================] - 71s - loss: 0.4828 - acc: 0.8533     \n",
      "Accuracy: 76.30%\n",
      "Epoch 1/1\n",
      "35653/35653 [==============================] - 70s - loss: 0.4793 - acc: 0.8543     \n",
      "Accuracy: 76.43%\n",
      "Epoch 1/1\n",
      "35653/35653 [==============================] - 71s - loss: 0.4777 - acc: 0.8534     \n",
      "Accuracy: 76.60%\n",
      "Epoch 1/1\n",
      "35653/35653 [==============================] - 70s - loss: 0.4734 - acc: 0.8537     \n",
      "Accuracy: 76.26%\n",
      "Epoch 1/1\n",
      "35653/35653 [==============================] - 70s - loss: 0.4682 - acc: 0.8565     \n",
      "Accuracy: 76.44%\n",
      "Epoch 1/1\n",
      "35653/35653 [==============================] - 70s - loss: 0.4691 - acc: 0.8553     \n",
      "Accuracy: 76.46%\n",
      "Epoch 1/1\n",
      "35653/35653 [==============================] - 70s - loss: 0.4700 - acc: 0.8556     \n",
      "Accuracy: 76.64%\n",
      "Epoch 1/1\n",
      "35653/35653 [==============================] - 71s - loss: 0.4683 - acc: 0.8553     \n",
      "Accuracy: 76.50%\n",
      "Epoch 1/1\n",
      "35653/35653 [==============================] - 70s - loss: 0.4650 - acc: 0.8557     \n",
      "Accuracy: 76.45%\n",
      "Epoch 1/1\n",
      "35653/35653 [==============================] - 70s - loss: 0.4605 - acc: 0.8556     \n",
      "Accuracy: 76.49%\n",
      "Epoch 1/1\n",
      "35653/35653 [==============================] - 70s - loss: 0.4572 - acc: 0.8574     \n",
      "Accuracy: 76.45%\n",
      "Epoch 1/1\n",
      "35653/35653 [==============================] - 70s - loss: 0.4540 - acc: 0.8583     \n",
      "Accuracy: 76.59%\n",
      "Epoch 1/1\n",
      "10000/35653 [=======>......................] - ETA: 50s - loss: 0.4434 - acc: 0.8599"
     ]
    }
   ],
   "source": [
    "#first_name_model.summary()\n",
    "first_trainX = first_name_struct[trainIndex]\n",
    "first_testX = first_name_struct[testIndex]\n",
    "last_trainX = last_name_struct[trainIndex]\n",
    "last_testX = last_name_struct[testIndex]\n",
    "trainY = labels[trainIndex]\n",
    "testY = labels[testIndex]\n",
    "\n",
    "#trainX =np.array([to_categorical(x,nb_classes=len(struct_dict_keys)+1) for x in trainX])\n",
    "#testX =np.array([to_categorical(x,nb_classes=len(struct_dict_keys)+1) for x in testX])\n",
    "\n",
    "mini_batch_size = 50000\n",
    "len_mini_batch = round(len(trainY)/mini_batch_size)\n",
    "batch_size = 10000\n",
    "\n",
    "for x in range(500):\n",
    "    for y in range(len_mini_batch):\n",
    "        y_first_trainX, y_last_trainX, batch_range =  generate_batch(first_trainX,last_trainX,y,mini_batch_size)\n",
    "        model.fit([y_first_trainX],trainY[batch_range],epochs=1,batch_size=batch_size)\n",
    "    first_test_ds_mat = pad_sequences(first_testX.apply(lambda x: transform_structure(x)),maxlen=50,value=0.)\n",
    "    #first_test_ds_mat = first_test_ds_mat.reshape(first_test_ds_mat.shape[0],1,first_test_ds_mat.shape[1])\n",
    "    scores = model.evaluate([first_test_ds_mat],testY,verbose=0)\n",
    "    print(\"Accuracy: %.2f%%\" %(scores[1]*100))"
   ]
  },
  {
   "cell_type": "raw",
   "metadata": {
    "collapsed": true
   },
   "source": [
    "from keras.layers import Input\n",
    "from keras.models import Model\n",
    "\n",
    "\n",
    "\n",
    "# train the first_name model\n",
    "\n",
    "# max sequence length\n",
    "seq_length = 50\n",
    "embedding_vector_length = 500\n",
    "# multi input with single output\n",
    "\n",
    "\n",
    "\n",
    "model = Sequential()\n",
    "model.add(Embedding(len(struct_dict_keys)+1,embedding_vector_length,input_length=seq_length))\n",
    "model.add(Conv1D(filters=embedding_vector_length,kernel_size=3,padding='same',activation='relu'))\n",
    "#model.add(MaxPooling1D(pool_size=2))\n",
    "#model.add(LSTM(lstm_layer,dropout=0.8))\n",
    "model.add(Bidirectional(LSTM(seq_length,return_sequences=False)))\n",
    "#model.add(TimeDistributed(keras.layers.Dense(len(ethnic_keys),activation='softmax')))\n",
    "model.add(keras.layers.Dense(512,activation='softmax'))\n",
    "model.add(keras.layers.Dense(256,activation='softmax'))\n",
    "model.add(keras.layers.Dense(len(ethnic_keys),activation='softmax'))\n",
    "#model.add(keras.layers.Dense(len(ethnic_keys),activation='softmax'))\n",
    "model.compile(loss='categorical_crossentropy',optimizer='adam',metrics=['accuracy'])\n",
    "\n",
    "\n",
    "\"\"\"\n",
    "#model.add(MaxPooling1D(pool_size=2))\n",
    "first_name_input = Input(shape=(50,),name='first_name_input')\n",
    "\n",
    "# first name input\n",
    "embedding = Embedding(len(struct_dict_keys)+1,embedding_vector_length,input_length=seq_length)(first_name_input)\n",
    "embedding = Conv1D(filters=embedding_vector_length,kernel_size=3,padding='same',activation='relu')(embedding)\n",
    "\n",
    "\n",
    "# first tensor for first name\n",
    "first_name_l = Bidirectional(LSTM(seq_length,return_sequences=False),input_shape=(seq_length,1))(embedding)\n",
    "# convolutional network\n",
    "#first_name_l = keras.layers.core.Reshape((first_name_l.shape[0].value,first_name_l.shape[1].value))(first_name_l)\n",
    "#first_name_l = Conv1D(filters=2,kernel_size=3,padding='same',activation='relu')(first_name_l)\n",
    "\n",
    "\n",
    "# stack dense network for memory\n",
    "x = Dense(128, activation='relu')(first_name_l)\n",
    "x = Dense(64, activation='relu')(x)\n",
    "output_l = Dense(len(ethnic_keys),activation='softmax')(x)\n",
    "\n",
    "first_name_model = Model(inputs=[first_name_input], outputs=[output_l])\n",
    "first_name_model.compile(loss='categorical_crossentropy',optimizer='adam',metrics=['accuracy'])\n",
    "\"\"\""
   ]
  },
  {
   "cell_type": "code",
   "execution_count": null,
   "metadata": {},
   "outputs": [],
   "source": [
    "plt.hist([ethnic_keys.index(x) for x in ethnic_series.iloc[trainIndex]],normed=True)"
   ]
  },
  {
   "cell_type": "raw",
   "metadata": {},
   "source": [
    "# save this model atlhouth there is something wrong with the features\n",
    "# I did not lowercase the text :(\n",
    "model_json = model.to_json()\n",
    "with open('model-keras-w3-bigram.json','w') as f:\n",
    "    f.write(model_json)\n",
    "#save the last weight\n",
    "model.save_weights('model-keras-w3-bigram-10.h5')    "
   ]
  },
  {
   "cell_type": "code",
   "execution_count": 43,
   "metadata": {
    "collapsed": true
   },
   "outputs": [],
   "source": [
    "def trans_name(name):\n",
    "    name = name.lower()\n",
    "    # transform space into underscore\n",
    "    name = '_'+name.replace(' ','_')+'_'\n",
    "    #transform the name into sequence structure\n",
    "    ext_name = extract_structure(name)\n",
    "    trans_name = transform_structure(ext_name)\n",
    "    name_ds_mat = np.zeros((1,len(struct_dict_keys)),dtype=np.int32)\n",
    "    for i,x in enumerate(trans_name):\n",
    "        name_ds_mat[0,x-1]+=1\n",
    "    #trans_name = pad_sequences([trans_name], maxlen=50,value=0.)\n",
    "    return name_ds_mat\n",
    "\n",
    "def predict_ethnicity(fname,lname):\n",
    "    # lower case the name\n",
    "    fnamex = trans_name(fname)\n",
    "    lnamex = trans_name(lname)\n",
    "    pred = loaded_model.predict([np.array(fnamex),np.array(lnamex)])\n",
    "    pred_class = np.argsort(pred[0])[::-1]\n",
    "    return_item = []\n",
    "    for x in np.argsort(pred[0])[::-1]:\n",
    "        return_item.append((ethnic_keys[x],pred[0][x]))\n",
    "    return return_item"
   ]
  },
  {
   "cell_type": "code",
   "execution_count": 46,
   "metadata": {},
   "outputs": [
    {
     "data": {
      "text/plain": [
       "[('greek', 0.91565043),\n",
       " ('hungarian', 0.039968226),\n",
       " ('african', 0.023328489),\n",
       " ('slav', 0.010720924),\n",
       " ('indian', 0.0044353865),\n",
       " ('french', 0.0028390423),\n",
       " ('romanian', 0.0013519992),\n",
       " ('hispanic', 0.0004805655),\n",
       " ('thai', 0.00040867552),\n",
       " ('israeli', 0.00022244373),\n",
       " ('baltic', 0.00021845232),\n",
       " ('indonesian', 0.00018888297),\n",
       " ('english', 0.00010734182),\n",
       " ('arab', 3.247691e-05),\n",
       " ('german', 2.0127121e-05),\n",
       " ('chinese', 1.9129955e-05),\n",
       " ('nordic', 4.1004869e-06),\n",
       " ('vietnamese', 2.4460342e-06),\n",
       " ('japanese', 3.6401113e-07),\n",
       " ('italian', 2.9021831e-07),\n",
       " ('dutch', 1.8433187e-07),\n",
       " ('korean', 9.6126428e-08),\n",
       " ('turkish', 7.3804962e-08)]"
      ]
     },
     "execution_count": 46,
     "metadata": {},
     "output_type": "execute_result"
    }
   ],
   "source": [
    "predict_ethnicity('Nikolos','Parulian')\n",
    "#trans_name('Nikolaus')"
   ]
  },
  {
   "cell_type": "code",
   "execution_count": 8,
   "metadata": {
    "collapsed": true
   },
   "outputs": [],
   "source": [
    "# embedd the structure vocabulary using text embedding and reduce the dimensionality\n",
    "\n",
    "# convert the names into word structure vector\n",
    "struct_dict_keys = list(struct_dict.keys())\n",
    "\n",
    "def transform_structure(name_struct):\n",
    "    list_structure = []\n",
    "    for x in name_struct:\n",
    "        try:\n",
    "            list_structure.append(struct_dict_keys.index(x)+1)\n",
    "        except BaseException:\n",
    "            list_structure.append(0)\n",
    "    #add pading 0 for structure less than num_input\n",
    "    #for i in range(len(list_structure),timesteps):\n",
    "    #    list_structure.append(0)\n",
    "    return list_structure   \n",
    "    #return [*map(lambda x:struct_dict_keys.index(x)+1, name_struct)]\n",
    "\n",
    "#data_source = full_name_struct.apply(lambda x: transform_structure(x))"
   ]
  },
  {
   "cell_type": "code",
   "execution_count": 9,
   "metadata": {
    "collapsed": true
   },
   "outputs": [],
   "source": [
    "def transform_labels(x):\n",
    "    y = np.zeros(len(ethnic_keys))\n",
    "    y[ethnic_keys.index(x)]=1\n",
    "    return y\n",
    "\n",
    "labels = np.array(list(map(lambda x: transform_labels(x),ethnic_series)))"
   ]
  },
  {
   "cell_type": "code",
   "execution_count": 26,
   "metadata": {
    "collapsed": true
   },
   "outputs": [],
   "source": [
    "# using tflearn make the graph creation simple\n",
    "import tensorflow as tf\n",
    "import tflearn\n",
    "from tflearn.data_utils import to_categorical, pad_sequences\n",
    "from sklearn.model_selection import train_test_split\n",
    "\n",
    "# separate train and training set\n",
    "trainX, testX, trainY, testY = train_test_split(data_source,[ethnic_keys.index(x) for x in ethnic_series],test_size = 0.2)\n",
    "\n",
    "trainX = pad_sequences(trainX, maxlen=50,value=0.)\n",
    "testX = pad_sequences(testX,maxlen=50,value=0.)\n",
    "# Converting labels to binary vectors\n",
    "trainY = to_categorical(trainY,nb_classes=len(ethnic_keys))\n",
    "testY = to_categorical(testY,nb_classes=len(ethnic_keys))    "
   ]
  },
  {
   "cell_type": "raw",
   "metadata": {
    "collapsed": true
   },
   "source": [
    "import pickle\n",
    "with open('train_test_fix.pickle','wb') as f:\n",
    "    pickle.dump((trainX,trainY,testX,testY,ethnic_keys,struct_dict_keys),f)"
   ]
  },
  {
   "cell_type": "code",
   "execution_count": 16,
   "metadata": {
    "collapsed": true
   },
   "outputs": [],
   "source": [
    "import numpy as np\n",
    "import keras\n",
    "from keras.models import Sequential\n",
    "from keras.layers import Dense\n",
    "from keras.layers import LSTM\n",
    "from keras.layers import Bidirectional\n",
    "from keras.layers import TimeDistributed\n",
    "from keras.layers.convolutional import Conv1D\n",
    "from keras.layers.convolutional import MaxPooling1D\n",
    "from keras.layers.embeddings import Embedding\n",
    "from keras.preprocessing import sequence\n",
    "\n",
    "import pickle\n",
    "\n",
    "with open('train_test_fix.pickle', 'rb') as f:\n",
    "    trainX,trainY,testX,testY,ethnic_keys,struct_dict_keys = pickle.load(f)\n",
    "    #aha = pickle.load(f)\n",
    "\n",
    "#with open('traintest-smote.pickle','rb') as f:\n",
    "#    train_res,test_res = pickle.load(f)\n",
    "\n",
    "with open('ethnic_keys.pickle','rb') as f:\n",
    "    name_struct_keys,ethnic_keys = pickle.load(f)\n",
    "        \n",
    "embedding_vector_length = 1000\n",
    "lstm_layer = 1000\n",
    "max_sequence = 50"
   ]
  },
  {
   "cell_type": "code",
   "execution_count": 2,
   "metadata": {},
   "outputs": [
    {
     "name": "stdout",
     "output_type": "stream",
     "text": [
      "_________________________________________________________________\n",
      "Layer (type)                 Output Shape              Param #   \n",
      "=================================================================\n",
      "embedding_1 (Embedding)      (None, 50, 1000)          62696000  \n",
      "_________________________________________________________________\n",
      "conv1d_1 (Conv1D)            (None, 50, 1000)          3001000   \n",
      "_________________________________________________________________\n",
      "bidirectional_1 (Bidirection (None, 200)               880800    \n",
      "_________________________________________________________________\n",
      "dense_1 (Dense)              (None, 23)                4623      \n",
      "=================================================================\n",
      "Total params: 66,582,423\n",
      "Trainable params: 66,582,423\n",
      "Non-trainable params: 0\n",
      "_________________________________________________________________\n",
      "None\n",
      "Epoch 1/1\n",
      "35653/35653 [==============================] - 778s - loss: 1.6879 - acc: 0.5265    \n",
      "Accuracy: 75.88%\n",
      "Epoch 1/1\n",
      "35653/35653 [==============================] - 796s - loss: 0.5197 - acc: 0.8582    \n",
      "Accuracy: 84.37%\n",
      "Epoch 1/1\n",
      "35653/35653 [==============================] - 817s - loss: 0.2142 - acc: 0.9437    \n",
      "Accuracy: 85.12%\n",
      "Epoch 1/1\n",
      "35653/35653 [==============================] - 779s - loss: 0.0989 - acc: 0.9755    \n",
      "Accuracy: 85.57%\n",
      "Epoch 1/1\n",
      "35653/35653 [==============================] - 29131s - loss: 0.0476 - acc: 0.9905   \n",
      "Accuracy: 85.63%\n",
      "Epoch 1/1\n",
      "35653/35653 [==============================] - 4804s - loss: 0.0258 - acc: 0.9953   \n",
      "Accuracy: 85.55%\n",
      "Epoch 1/1\n",
      "35653/35653 [==============================] - 35875s - loss: 0.0138 - acc: 0.9980   \n",
      "Accuracy: 85.79%\n",
      "Epoch 1/1\n",
      "35653/35653 [==============================] - 745s - loss: 0.0090 - acc: 0.9988    \n",
      "Accuracy: 85.69%\n",
      "Epoch 1/1\n",
      "35653/35653 [==============================] - 742s - loss: 0.0068 - acc: 0.9992    \n",
      "Accuracy: 85.82%\n",
      "Epoch 1/1\n",
      "35653/35653 [==============================] - 741s - loss: 0.0048 - acc: 0.9996    \n",
      "Accuracy: 85.62%\n"
     ]
    }
   ],
   "source": [
    "model = Sequential()\n",
    "model.add(Embedding(len(name_struct_keys)+1,embedding_vector_length,input_length=max_sequence))\n",
    "model.add(Conv1D(filters=embedding_vector_length,kernel_size=3,padding='same',activation='relu'))\n",
    "#model.add(MaxPooling1D(pool_size=2))\n",
    "#model.add(LSTM(lstm_layer,dropout=0.8))\n",
    "model.add(Bidirectional(LSTM(max_sequence*2,return_sequences=False),input_shape=(max_sequence,1)))\n",
    "#model.add(TimeDistributed(keras.layers.Dense(len(ethnic_keys),activation='softmax')))\n",
    "model.add(keras.layers.Dense(len(ethnic_keys),activation='softmax'))\n",
    "#model.add(keras.layers.Dense(len(ethnic_keys),activation='softmax'))\n",
    "model.compile(loss='categorical_crossentropy',optimizer='adam',metrics=['accuracy'])\n",
    "print(model.summary())\n",
    "for x in range(10):\n",
    "    model.fit(trainX,trainY,epochs=1,batch_size=1000)\n",
    "    scores = model.evaluate(testX,testY,verbose=0)\n",
    "    print(\"Accuracy: %.2f%%\" %(scores[1]*100))"
   ]
  },
  {
   "cell_type": "raw",
   "metadata": {
    "collapsed": true
   },
   "source": [
    "# save this model atlhouth there is something wrong with the features\n",
    "# I did not lowercase the text :(\n",
    "model_json = model.to_json()\n",
    "with open('model-keras-embed-bilstm-womaxpool.json','w') as f:\n",
    "    f.write(model_json)\n",
    "#save the last weight\n",
    "model.save_weights('model-keras-embed-bilstm-womaxpool-10.h5')    "
   ]
  },
  {
   "cell_type": "code",
   "execution_count": 14,
   "metadata": {
    "collapsed": true
   },
   "outputs": [],
   "source": [
    "# load the model and f1 calculation\n",
    "\n",
    "from keras.models import model_from_json\n",
    "from keras import backend as K\n",
    "\n",
    "# compute the accuracy\n",
    "def f1_score(y_true, y_pred):\n",
    "\n",
    "    # Count positive samples.\n",
    "    c1 = K.sum(K.round(K.clip(y_true * y_pred, 0, 1)))\n",
    "    c2 = K.sum(K.round(K.clip(y_pred, 0, 1)))\n",
    "    c3 = K.sum(K.round(K.clip(y_true, 0, 1)))\n",
    "\n",
    "    # If there are no true samples, fix the F1 score at 0.\n",
    "    if c3 == 0:\n",
    "        return 0\n",
    "\n",
    "    # How many selected items are relevant?\n",
    "    precision = c1 / c2\n",
    "    #print(precision)\n",
    "\n",
    "    # How many relevant items are selected?\n",
    "    recall = c1 / c3\n",
    "    #print(recall)\n",
    "\n",
    "    # Calculate f1_score\n",
    "    f1_score = 2 * (precision * recall) / (precision + recall)\n",
    "    return f1_score\n",
    "\n",
    "def precision(y_true, y_pred):\n",
    "\n",
    "    # Count positive samples.\n",
    "    c1 = K.sum(K.round(K.clip(y_true * y_pred, 0, 1)))\n",
    "    c2 = K.sum(K.round(K.clip(y_pred, 0, 1)))\n",
    "    c3 = K.sum(K.round(K.clip(y_true, 0, 1)))\n",
    "\n",
    "    # If there are no true samples, fix the F1 score at 0.\n",
    "    if c3 == 0:\n",
    "        return 0\n",
    "\n",
    "    # How many selected items are relevant?\n",
    "    precision = c1 / c2\n",
    "\n",
    "    return precision\n",
    "\n",
    "\n",
    "def recall(y_true, y_pred):\n",
    "\n",
    "    # Count positive samples.\n",
    "    c1 = K.sum(K.round(K.clip(y_true * y_pred, 0, 1)))\n",
    "    c3 = K.sum(K.round(K.clip(y_true, 0, 1)))\n",
    "\n",
    "    # If there are no true samples, fix the F1 score at 0.\n",
    "    if c3 == 0:\n",
    "        return 0\n",
    "\n",
    "    recall = c1 / c3\n",
    "\n",
    "    return recall\n",
    "\n",
    "# load model\n",
    "# load json and create model\n",
    "json_file = open('model-keras-w3-bigram.json', 'r')\n",
    "loaded_model_json = json_file.read()\n",
    "json_file.close()\n",
    "loaded_model = model_from_json(loaded_model_json)\n",
    "#                               ,custom_objects= {'f1_score': f1_score})\n",
    "loaded_model.load_weights(\"model-keras-w3-bigram-10.h5\")\n",
    "\n",
    "loaded_model.compile(loss='categorical_crossentropy',optimizer='adam',metrics=['accuracy',f1_score,precision,recall])"
   ]
  },
  {
   "cell_type": "code",
   "execution_count": 15,
   "metadata": {
    "collapsed": true
   },
   "outputs": [],
   "source": [
    "first_trainX = first_name_ds_mat[trainIndex]\n",
    "first_testX = first_name_ds_mat[testIndex]\n",
    "last_trainX = last_name_ds_mat[trainIndex]\n",
    "last_testX = last_name_ds_mat[testIndex]\n",
    "trainY = labels[trainIndex]\n",
    "testY = labels[testIndex]\n",
    "\n",
    "\n",
    "scores = loaded_model.evaluate([first_testX,last_testX],testY,verbose=0)"
   ]
  },
  {
   "cell_type": "code",
   "execution_count": 17,
   "metadata": {},
   "outputs": [
    {
     "name": "stdout",
     "output_type": "stream",
     "text": [
      "Accuracy: 0.8533767108053858, F1: 0.8554885642716294, Precision: 0.865419945870383, Recal: 0.8460848104239633\n"
     ]
    }
   ],
   "source": [
    "print('Accuracy: {}, F1: {}, Precision: {}, Recal: {}'.format(scores[1],scores[2],scores[3],scores[4]))"
   ]
  },
  {
   "cell_type": "code",
   "execution_count": 30,
   "metadata": {
    "collapsed": true
   },
   "outputs": [],
   "source": [
    "# make a confusion matrix\n",
    "pred = loaded_model.predict([first_testX,last_testX])\n",
    "# pred probability distribution\n",
    "\n",
    "pred_class = np.array([np.argsort(x)[::-1][0] for x in pred])\n",
    "test_labels = np.array([np.argsort(x)[::-1][0] for x in testY])\n",
    "predicting_error = test_labels[np.where(pred_class != test_labels)]\n",
    "class_error = pred_class[np.where(pred_class != test_labels)]"
   ]
  },
  {
   "cell_type": "code",
   "execution_count": 39,
   "metadata": {},
   "outputs": [
    {
     "data": {
      "text/plain": [
       "(array([    9.,    36.,    69.,   172.,   228.,   229.,   259.,   284.,\n",
       "          438.,  7190.]),\n",
       " array([ 0.21,  0.29,  0.37,  0.45,  0.53,  0.61,  0.69,  0.76,  0.84,\n",
       "         0.92,  1.  ]),\n",
       " <a list of 10 Patch objects>)"
      ]
     },
     "execution_count": 39,
     "metadata": {},
     "output_type": "execute_result"
    },
    {
     "data": {
      "image/png": "[encoded data removed]",
      "text/plain": [
       "<matplotlib.figure.Figure at 0x1330be160>"
      ]
     },
     "metadata": {},
     "output_type": "display_data"
    }
   ],
   "source": [
    "fig,ax = plt.subplots(figsize=(10,10))\n",
    "ax.hist(np.array([x[np.argsort(x)[::-1][0]] for x in pred]))"
   ]
  },
  {
   "cell_type": "code",
   "execution_count": 32,
   "metadata": {},
   "outputs": [
    {
     "name": "stdout",
     "output_type": "stream",
     "text": [
      "Confusion matrix, without normalization\n"
     ]
    },
    {
     "data": {
      "image/png": "[encoded data removed]",
      "text/plain": [
       "<matplotlib.figure.Figure at 0x1338cdef0>"
      ]
     },
     "metadata": {},
     "output_type": "display_data"
    }
   ],
   "source": [
    "from sklearn.metrics import confusion_matrix\n",
    "import itertools\n",
    "\n",
    "def plot_confusion_matrix(cm, classes,\n",
    "                          normalize=False,\n",
    "                          title='Confusion matrix',\n",
    "                          cmap=plt.cm.Blues):\n",
    "    \"\"\"\n",
    "    This function prints and plots the confusion matrix.\n",
    "    Normalization can be applied by setting `normalize=True`.\n",
    "    \"\"\"\n",
    "    if normalize:\n",
    "        cm = cm.astype('float') / cm.sum(axis=1)[:, np.newaxis]\n",
    "        print(\"Normalized confusion matrix\")\n",
    "    else:\n",
    "        print('Confusion matrix, without normalization')\n",
    "\n",
    "    #print(cm)\n",
    "\n",
    "    plt.imshow(cm, interpolation='nearest', cmap=cmap)\n",
    "    plt.title(title)\n",
    "    plt.colorbar()\n",
    "    tick_marks = np.arange(len(classes))\n",
    "    plt.xticks(tick_marks, classes, rotation=45)\n",
    "    plt.yticks(tick_marks, classes)\n",
    "\n",
    "    fmt = '.2f' if normalize else 'd'\n",
    "    thresh = cm.max() / 2.\n",
    "    for i, j in itertools.product(range(cm.shape[0]), range(cm.shape[1])):\n",
    "        plt.text(j, i, format(cm[i, j], fmt),\n",
    "                 horizontalalignment=\"center\",\n",
    "                 color=\"white\" if cm[i, j] > thresh else \"black\")\n",
    "\n",
    "    plt.tight_layout()\n",
    "    plt.ylabel('True value')\n",
    "    plt.xlabel('Predicted value')\n",
    "\n",
    "# Compute confusion matrix\n",
    "cnf_matrix = confusion_matrix(predicting_error, class_error)\n",
    "np.set_printoptions(precision=2)\n",
    "\n",
    "# Plot non-normalized confusion matrix\n",
    "plt.figure(figsize=(15,15))\n",
    "plot_confusion_matrix(cnf_matrix, classes=ethnic_keys,\n",
    "                      title='Error matrix')\n",
    "\n",
    "# Plot normalized confusion matrix\n",
    "#plt.figure()\n",
    "#plot_confusion_matrix(cnf_matrix, classes=ethnic_keys, normalize=True,\n",
    "#                      title='Normalized confusion matrix')\n",
    "\n",
    "plt.show()"
   ]
  }
 ],
 "metadata": {
  "anaconda-cloud": {},
  "kernelspec": {
   "display_name": "Python 3",
   "language": "python",
   "name": "python3"
  },
  "language_info": {
   "codemirror_mode": {
    "name": "ipython",
    "version": 3
   },
   "file_extension": ".py",
   "mimetype": "text/x-python",
   "name": "python",
   "nbconvert_exporter": "python",
   "pygments_lexer": "ipython3",
   "version": "3.6.1"
  }
 },
 "nbformat": 4,
 "nbformat_minor": 2
}
